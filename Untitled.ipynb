{
 "cells": [
  {
   "cell_type": "code",
   "execution_count": 1,
   "id": "d60edb74",
   "metadata": {},
   "outputs": [],
   "source": [
    "import cv2\n",
    "import json"
   ]
  },
  {
   "cell_type": "code",
   "execution_count": 2,
   "id": "b3e69ce0",
   "metadata": {},
   "outputs": [],
   "source": [
    "# Load the JSON file with the ROI coordinates\n",
    "jpath = r\"CV_hackathon_task\\cam_config.json\"\n",
    "with open(jpath, \"r\") as f:\n",
    "    roi_data = json.load(f)"
   ]
  },
  {
   "cell_type": "code",
   "execution_count": 3,
   "id": "65b36b6c",
   "metadata": {},
   "outputs": [
    {
     "name": "stdout",
     "output_type": "stream",
     "text": [
      "{'siteConfig': {'siteId': 'FF9966', 'cameraConfig': {'201': {'deviceName': 'Flex', 'roi': [{'areaName': 'SIDEWAY', 'coordinates': [{'x': 0.02978515625, 'y': 0.41458331214057076}, {'x': 0.5021193675479406, 'y': 0.41458331214057076}, {'x': 0.02978515625, 'y': 0.9202311281017287}, {'x': 0.5021193675479406, 'y': 0.9202311281017287}]}, {'areaName': 'ENTRY', 'coordinates': [{'x': 0.567230224609375, 'y': 0.49097220102945965}, {'x': 0.9492845239106174, 'y': 0.49097220102945965}, {'x': 0.567230224609375, 'y': 0.9125578491776076}, {'x': 0.9492845239106174, 'y': 0.9125578491776076}]}], 'rtspServer': 'file:///vid.mp4'}}, 'camListMapped': {'0': '201'}, 'camList': ['201']}}\n"
     ]
    }
   ],
   "source": [
    "print(roi_data)"
   ]
  },
  {
   "cell_type": "code",
   "execution_count": 4,
   "id": "02cdbf60",
   "metadata": {},
   "outputs": [
    {
     "name": "stdout",
     "output_type": "stream",
     "text": [
      "[{'x': 0.02978515625, 'y': 0.41458331214057076}, {'x': 0.5021193675479406, 'y': 0.41458331214057076}, {'x': 0.02978515625, 'y': 0.9202311281017287}, {'x': 0.5021193675479406, 'y': 0.9202311281017287}]\n",
      "[{'x': 0.567230224609375, 'y': 0.49097220102945965}, {'x': 0.9492845239106174, 'y': 0.49097220102945965}, {'x': 0.567230224609375, 'y': 0.9125578491776076}, {'x': 0.9492845239106174, 'y': 0.9125578491776076}]\n"
     ]
    }
   ],
   "source": [
    "# Extract the ROI coordinates\n",
    "roi1 = roi_data[\"siteConfig\"][\"cameraConfig\"][\"201\"][\"roi\"][0][\"coordinates\"]\n",
    "roi2 = roi_data[\"siteConfig\"][\"cameraConfig\"][\"201\"][\"roi\"][1][\"coordinates\"]\n",
    "\n",
    "print(roi1)\n",
    "print(roi2)\n"
   ]
  },
  {
   "cell_type": "code",
   "execution_count": 11,
   "id": "78bccf3a",
   "metadata": {},
   "outputs": [],
   "source": [
    "# Load the video file\n",
    "vpath = r\"CV_hackathon_task\\vid.mp4\"\n",
    "video = cv2.VideoCapture(vpath)\n",
    "\n",
    "# Set up the object detector\n",
    "detector = cv2.CascadeClassifier(\"haarcascade_frontalface_default.xml\")\n"
   ]
  },
  {
   "cell_type": "code",
   "execution_count": 27,
   "id": "833f5225",
   "metadata": {},
   "outputs": [
    {
     "ename": "SyntaxError",
     "evalue": "'break' outside loop (517797886.py, line 9)",
     "output_type": "error",
     "traceback": [
      "\u001b[1;36m  Input \u001b[1;32mIn [27]\u001b[1;36m\u001b[0m\n\u001b[1;33m    break\u001b[0m\n\u001b[1;37m    ^\u001b[0m\n\u001b[1;31mSyntaxError\u001b[0m\u001b[1;31m:\u001b[0m 'break' outside loop\n"
     ]
    }
   ],
   "source": [
    "# Set up the video writer\n",
    "fourcc = cv2.VideoWriter_fourcc(*\"MJPG\")\n",
    "\n",
    "# Read the first frame to get the frame size\n",
    "success, frame = video.read()\n",
    "\n",
    "# If there are no more frames, break out of the loop\n",
    "if not success:\n",
    "    break\n",
    "\n",
    "# Initialize the video writer with the frame size\n",
    "writer = cv2.VideoWriter(\"output.avi\", fourcc, 30, (frame.shape[1], frame.shape[0]))\n",
    "\n",
    "# Process each frame of the video\n",
    "while True:\n",
    "    # Read the next frame\n",
    "    success, frame = video.read()\n",
    "\n",
    "    # If there are no more frames, break out of the loop\n",
    "    if not success:\n",
    "        break\n",
    "\n",
    "    # Convert the frame to grayscale\n",
    "    gray = cv2.cvtColor(frame, cv2.COLOR_BGR2GRAY)\n",
    "\n",
    "    # Check if the frame is a valid image\n",
    "    if gray.shape[0] > 0 and gray.shape[1] > 0:\n",
    "        # Detect objects in the frame\n",
    "        objects = detector.detectMultiScale(gray)\n",
    "\n",
    "        # Iterate over the detected objects\n",
    "        for (x, y, w, h) in objects:\n",
    "            # Check if the object falls within one of the ROIs\n",
    "            if (x >= roi1[0] and y >= roi1[1] and x + w <= roi1[2] and y + h <= roi1[3]) or (x >= roi2[0] and y >= roi2[1] and x + w <= roi2[2] and y + h <= roi2[3]):\n",
    "                # Crop the frame to the ROI\n",
    "                roi = frame[y:y+h, x:x+w]\n",
    "\n",
    "                # Save the image\n",
    "                cv2.imwrite(\"captured_image.jpg\", roi)\n",
    "            else:\n",
    "                # Redact the object\n",
    "                cv2.rectangle(frame, (x, y), (x + w, y + h), (0, 0, 0), -1)\n",
    "    # Write the processed frame to the output video file\n",
    "    writer.write(frame)\n",
    "\n",
    "# Release the video writer and close any open windows\n",
    "writer.release()\n",
    "cv2.destroyAllWindows()"
   ]
  },
  {
   "cell_type": "code",
   "execution_count": null,
   "id": "2f3129ef",
   "metadata": {},
   "outputs": [],
   "source": []
  }
 ],
 "metadata": {
  "kernelspec": {
   "display_name": "Python 3 (ipykernel)",
   "language": "python",
   "name": "python3"
  },
  "language_info": {
   "codemirror_mode": {
    "name": "ipython",
    "version": 3
   },
   "file_extension": ".py",
   "mimetype": "text/x-python",
   "name": "python",
   "nbconvert_exporter": "python",
   "pygments_lexer": "ipython3",
   "version": "3.10.2"
  }
 },
 "nbformat": 4,
 "nbformat_minor": 5
}
